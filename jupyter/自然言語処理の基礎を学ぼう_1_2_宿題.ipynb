{
  "nbformat": 4,
  "nbformat_minor": 0,
  "metadata": {
    "colab": {
      "provenance": []
    },
    "kernelspec": {
      "name": "python3",
      "display_name": "Python 3"
    },
    "language_info": {
      "name": "python"
    }
  },
  "cells": [
    {
      "cell_type": "code",
      "execution_count": null,
      "metadata": {
        "colab": {
          "base_uri": "https://localhost:8080/"
        },
        "id": "qPzwS-etGJTw",
        "outputId": "731ecbb7-7351-4f16-9403-da80ecd3efdd"
      },
      "outputs": [
        {
          "output_type": "stream",
          "name": "stdout",
          "text": [
            "True\n",
            "False\n"
          ]
        }
      ],
      "source": [
        "'''問題2-1: 数字のみを含む文字列を検出する正規表現を表す以下の関数を作成してください。\n",
        "is_numeric(text: str) -> bool:\n",
        "例: \"123\"を与えたらtrue, \"12a3\"を与えたらfalseを返す'''\n",
        "\n",
        "import re\n",
        "\n",
        "\n",
        "def is_numeric(text: str) -> bool:\n",
        "    return bool(re.fullmatch(r'\\d+', text))\n",
        "\n",
        "\n",
        "print(is_numeric(\"123\"))\n",
        "print(is_numeric(\"12a3\"))\n"
      ]
    },
    {
      "cell_type": "code",
      "source": [
        "'''問題2-2: 電話番号を抽出する（形式: 000-0000-0000）\n",
        "def extract_phone_numbers(text: str) -> list[str]:\n",
        "例: \"090-9810-5613\"を入力したら[\"090-9810-5613\"]を返す\n",
        "例: \"1111-9810-5613\"を入力したら[]を返す'''\n",
        "\n",
        "\n",
        "。\n",
        "\n",
        "def extract_phone_numbers(text: str) -> list[str]:\n",
        "    return re.findall(r'\\b\\d{3}-\\d{4}-\\d{4}\\b', text)\n",
        "\n",
        "\n",
        "print(extract_phone_numbers(\"090-9810-5613\"))\n",
        "print(extract_phone_numbers(\"1111-9810-5613\"))\n"
      ],
      "metadata": {
        "colab": {
          "base_uri": "https://localhost:8080/"
        },
        "id": "TxO6MhBSGQVe",
        "outputId": "8302e95a-bf74-4740-93ee-5ede03665be7"
      },
      "execution_count": null,
      "outputs": [
        {
          "output_type": "stream",
          "name": "stdout",
          "text": [
            "['090-9810-5613']\n",
            "[]\n"
          ]
        }
      ]
    },
    {
      "cell_type": "code",
      "source": [
        "'''問題2-3: HTMLタグを除去する\n",
        "def remove_html_tags(html: str) -> str:\n",
        "\"<body>これは本文です</body>\"を入力したら\"これは本文です\"を返す\n",
        "\"<html><head>トップページ</head></html>\"を入力したら”トップページ”を返す\n",
        "ヒント: subを用いる。subはマッチしたpatternを置換する。'''\n",
        "\n",
        "\n",
        "def remove_html_tags(html: str) -> str:\n",
        "    return re.sub(r'<[^>]+>', '', html)\n",
        "\n",
        "print(remove_html_tags(\"<body>これは本文です</body>\"))\n",
        "print(remove_html_tags(\"<html><head>トップページ</head></html>\"))\n",
        "\n"
      ],
      "metadata": {
        "id": "kAiiK2nTGWax"
      },
      "execution_count": null,
      "outputs": []
    },
    {
      "cell_type": "code",
      "source": [
        "'''問題2-4: 文字列内の単語を数える（英語用）\n",
        "def count_words(text: str) -> int:\n",
        "文字列は任意の文字列を与えてください'''\n",
        "\n",
        "\n",
        "def count_words(text: str) -> int:\n",
        "    words = re.findall(r'\\b\\w+\\b', text)\n",
        "    return len(words)\n",
        "\n",
        "print(count_words(\"This is a simple test.\"))\n"
      ],
      "metadata": {
        "colab": {
          "base_uri": "https://localhost:8080/"
        },
        "id": "TInKtBlGGfg0",
        "outputId": "9b66b100-2e01-4397-b9b4-547d8a748fc5"
      },
      "execution_count": null,
      "outputs": [
        {
          "output_type": "stream",
          "name": "stdout",
          "text": [
            "5\n"
          ]
        }
      ]
    },
    {
      "cell_type": "code",
      "source": [
        "'''問題2-5: URLを検出し、プロトコルを抽出する(http/https/ftp)\n",
        "def extract_protocol(url: str) -> str:\n",
        "ヒント: group'''\n",
        "\n",
        "\n",
        "def extract_protocol(url: str) -> str:\n",
        "    match = re.match(r'^(https?|ftp)', url)\n",
        "    return match.group(0) if match else None\n",
        "\n",
        "print(extract_protocol(\"https://example.com\"))\n",
        "print(extract_protocol(\"ftp://example.com\"))\n"
      ],
      "metadata": {
        "colab": {
          "base_uri": "https://localhost:8080/"
        },
        "id": "EB_QygEcGirS",
        "outputId": "edcff0cc-1cbf-4205-ee5f-a3d5362bfb9e"
      },
      "execution_count": null,
      "outputs": [
        {
          "output_type": "stream",
          "name": "stdout",
          "text": [
            "https\n",
            "ftp\n"
          ]
        }
      ]
    },
    {
      "cell_type": "code",
      "source": [
        "'''問題2-6: 日付を検出し、年月日に分解する（形式: YYYY-MM-DD）\n",
        "def parse_date(text: str) ->dict[str, str]:\n",
        "input: \"2023-01-01\", output: {\"year\": \"2023\", \"month\": \"01\", \"day\": \"01\"}\n",
        "input: \"20233-01-01\", output: None'''\n",
        "\n",
        "def parse_date(text: str) -> dict[str, str]:\n",
        "    match = re.match(r'^(\\d{4})-(\\d{2})-(\\d{2})$', text)\n",
        "    if match:\n",
        "        return {\"year\": match.group(1), \"month\": match.group(2), \"day\": match.group(3)}\n",
        "    return None\n",
        "\n",
        "\n",
        "print(parse_date(\"2023-01-01\"))  # {\"year\": \"2023\", \"month\": \"01\", \"day\": \"01\"}\n",
        "print(parse_date(\"20233-01-01\")) # None\n"
      ],
      "metadata": {
        "colab": {
          "base_uri": "https://localhost:8080/"
        },
        "id": "z5yJUyBfGp7k",
        "outputId": "a866e224-ebf4-4af1-9db7-969e5fb87f9b"
      },
      "execution_count": null,
      "outputs": [
        {
          "output_type": "stream",
          "name": "stdout",
          "text": [
            "{'year': '2023', 'month': '01', 'day': '01'}\n",
            "None\n"
          ]
        }
      ]
    },
    {
      "cell_type": "code",
      "source": [
        "'''問題2-7: 以下のリストから山田, 佐藤の名前(例: 山田 二郎なら二郎)を抽出してください。\n",
        "山田 高志\n",
        "佐藤 美香\n",
        "鈴木 健太\n",
        "田中 さくら\n",
        "伊藤 太郎\n",
        "渡辺 あやか\n",
        "佐藤 裕介\n",
        "小林 みさと\n",
        "加藤 健一\n",
        "山田　一\n",
        "木村 さやか\n",
        "（上記程度はfor文不要ですが、実務では数千件を処理する必要があります）'''\n",
        "\n",
        "\n",
        "def extract_names(names: list[str]) -> list[str]:\n",
        "    results = []\n",
        "    for name in names:\n",
        "        match = re.match(r'^(山田|佐藤)\\s(\\S+)', name)\n",
        "        if match:\n",
        "            results.append(match.group(2))\n",
        "    return results\n",
        "\n",
        "\n",
        "names_list = [\n",
        "    \"山田 高志\", \"佐藤 美香\", \"鈴木 健太\", \"田中 さくら\",\n",
        "    \"伊藤 太郎\", \"渡辺 あやか\", \"佐藤 裕介\", \"小林 みさと\",\n",
        "    \"加藤 健一\", \"山田 一\", \"木村 さやか\"\n",
        "]\n",
        "print(extract_names(names_list))\n"
      ],
      "metadata": {
        "colab": {
          "base_uri": "https://localhost:8080/"
        },
        "id": "Q8yddq9bGz1h",
        "outputId": "a0764662-bd6d-4ffc-841f-d11e6ba180a4"
      },
      "execution_count": null,
      "outputs": [
        {
          "output_type": "stream",
          "name": "stdout",
          "text": [
            "['高志', '美香', '裕介', '一']\n"
          ]
        }
      ]
    },
    {
      "cell_type": "code",
      "source": [
        "'''問題2-8: 以下のリストからドメイン(yahoo, google, excite ..)を抽出してください。ただし誤ったメールアドレスの場合は抽出しないでください。\n",
        "emails = [\n",
        "    \"yamada@biglobe.ne.jp\",\n",
        "    \"hotei@dmm.com\",\n",
        "    \"miss@@unknown\",\n",
        "    ”test@hotmail.com”,\n",
        "    \"a1_test@gmail.com\",\n",
        "    \"f28309@fuji.co.jp\"\n",
        "]'''\n",
        "\n",
        "\n",
        "def extract_domains(emails: list[str]) -> list[str]:\n",
        "    domains = []\n",
        "    for email in emails:\n",
        "        match = re.match(r'^[\\w\\.-]+@([\\w\\.-]+\\.[a-z]{2,})$', email)\n",
        "        if match:\n",
        "            domain = match.group(1).split('.')[0]\n",
        "            domains.append(domain)\n",
        "    return domains\n",
        "\n",
        "\n",
        "emails = [\n",
        "    \"yamada@biglobe.ne.jp\", \"hotei@dmm.com\", \"miss@@unknown\",\n",
        "    \"test@hotmail.com\", \"a1_test@gmail.com\", \"f28309@fuji.co.jp\"\n",
        "]\n",
        "print(extract_domains(emails))\n"
      ],
      "metadata": {
        "colab": {
          "base_uri": "https://localhost:8080/"
        },
        "id": "Nm_bBDQGG7eo",
        "outputId": "e9d1b649-4de6-42cb-815f-ad50c2076f8c"
      },
      "execution_count": null,
      "outputs": [
        {
          "output_type": "stream",
          "name": "stdout",
          "text": [
            "['biglobe', 'dmm', 'hotmail', 'gmail', 'fuji']\n"
          ]
        }
      ]
    },
    {
      "cell_type": "code",
      "source": [
        "'''問題2-9: シンプルなウェブページの取得:\n",
        "http://example.com/ からHTMLを取得し、タイトルを抽出してください。'''\n",
        "\n",
        "\n",
        "'''\n",
        "BeautifulSoupとは、Pythonで使われるHTMLやXMLファイルを解析するためのライブラリです。\n",
        "このライブラリを使用することで、ウェブページの内容を簡単に抽出・操作することができます。\n",
        "特に、ウェブスクレイピング（ウェブサイトからデータを自動的に収集すること）に広く使われています。\n",
        "'''\n",
        "\n",
        "!pip install requests beautifulsoup4\n",
        "\n",
        "import requests\n",
        "from bs4 import BeautifulSoup\n",
        "\n",
        "def extract_title(url: str) -> str:\n",
        "    response = requests.get(url)\n",
        "    soup = BeautifulSoup(response.content, 'html.parser')\n",
        "    title = soup.find('title')\n",
        "    return title.string if title else None\n",
        "\n",
        "\n",
        "print(extract_title(\"http://example.com/\"))"
      ],
      "metadata": {
        "colab": {
          "base_uri": "https://localhost:8080/"
        },
        "id": "cCLsg-_QHB3S",
        "outputId": "0f1252cc-11e6-4a0c-e594-67507806c3e1"
      },
      "execution_count": null,
      "outputs": [
        {
          "output_type": "stream",
          "name": "stdout",
          "text": [
            "Requirement already satisfied: requests in /usr/local/lib/python3.10/dist-packages (2.32.3)\n",
            "Requirement already satisfied: beautifulsoup4 in /usr/local/lib/python3.10/dist-packages (4.12.3)\n",
            "Requirement already satisfied: charset-normalizer<4,>=2 in /usr/local/lib/python3.10/dist-packages (from requests) (3.3.2)\n",
            "Requirement already satisfied: idna<4,>=2.5 in /usr/local/lib/python3.10/dist-packages (from requests) (3.8)\n",
            "Requirement already satisfied: urllib3<3,>=1.21.1 in /usr/local/lib/python3.10/dist-packages (from requests) (2.0.7)\n",
            "Requirement already satisfied: certifi>=2017.4.17 in /usr/local/lib/python3.10/dist-packages (from requests) (2024.7.4)\n",
            "Requirement already satisfied: soupsieve>1.2 in /usr/local/lib/python3.10/dist-packages (from beautifulsoup4) (2.6)\n",
            "Example Domain\n"
          ]
        }
      ]
    },
    {
      "cell_type": "code",
      "source": [
        "'''問題2-10: http://example.com/ からHTMLを取得し、本文を抽出してください。'''\n",
        "\n",
        "import requests\n",
        "from bs4 import BeautifulSoup\n",
        "\n",
        "def extract_body_text(url: str) -> str:\n",
        "    response = requests.get(url)\n",
        "    soup = BeautifulSoup(response.content, 'html.parser')\n",
        "    body = soup.find('body')\n",
        "    return body.get_text().strip() if body else None\n",
        "\n",
        "\n",
        "print(extract_body_text(\"http://example.com/\"))\n",
        "\n"
      ],
      "metadata": {
        "colab": {
          "base_uri": "https://localhost:8080/"
        },
        "id": "kDjTfB9_HSZL",
        "outputId": "b590780e-bae9-4e89-cc9a-a31e864a8f77"
      },
      "execution_count": null,
      "outputs": [
        {
          "output_type": "stream",
          "name": "stdout",
          "text": [
            "Example Domain\n",
            "This domain is for use in illustrative examples in documents. You may use this\n",
            "    domain in literature without prior coordination or asking for permission.\n",
            "More information...\n"
          ]
        }
      ]
    }
  ]
}